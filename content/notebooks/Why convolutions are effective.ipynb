{
 "cells": [
  {
   "cell_type": "markdown",
   "id": "c3e006a3-34d1-4539-b233-8a0cec4cac96",
   "metadata": {},
   "source": [
    "## Why convolutions are effective\n",
    "\n",
    "Convolutional neural networks have seen great success in computer vision tasks. However, why is this architecture so effective? This article hopes to elucidate the apparent efficacy of convolutional networks in many computer vision tasks. We'll approach this by training a convolutional network on the Fashion MNIST dataset."
   ]
  },
  {
   "cell_type": "markdown",
   "id": "5a8a0f43-b232-493f-b526-b810a636f8de",
   "metadata": {},
   "source": [
    "### A brief look at the dataset"
   ]
  },
  {
   "cell_type": "markdown",
   "id": "68968cca",
   "metadata": {},
   "source": [
    "First, we make some necessary imports:"
   ]
  },
  {
   "cell_type": "code",
   "execution_count": 2,
   "id": "4d756629-4f23-45bb-a6fa-ff4a639af11d",
   "metadata": {},
   "outputs": [
    {
     "name": "stdout",
     "output_type": "stream",
     "text": [
      "Using device: cuda\n"
     ]
    }
   ],
   "source": [
    "import torch\n",
    "import torch.nn as nn\n",
    "import torch.nn.functional as F\n",
    "from torch.utils.data import DataLoader\n",
    "import torchvision\n",
    "from torchvision.transforms import ToTensor\n",
    "import matplotlib.pyplot as plt\n",
    "import numpy as np\n",
    "from torchinfo import summary\n",
    "\n",
    "device_name = None\n",
    "if torch.cuda.is_available():\n",
    "    device_name = 'cuda'\n",
    "else:\n",
    "    device_name = 'cpu'\n",
    "device = torch.device(device_name)\n",
    "print('Using device: ' + device_name)"
   ]
  },
  {
   "cell_type": "markdown",
   "id": "4ae3e03f",
   "metadata": {},
   "source": [
    "Then, we load the dataset and display it:"
   ]
  },
  {
   "cell_type": "code",
   "execution_count": 3,
   "id": "b3896633-2edd-40ba-ba24-5e59588728fa",
   "metadata": {},
   "outputs": [],
   "source": [
    "# this will download the dataset to a local directory if not downloaded already\n",
    "# otherwise looks for a directory named \"fashion_mnist\"\n",
    "train_dataset = torchvision.datasets.FashionMNIST(root='fashion_mnist', download=True, train=True, transform=ToTensor())\n",
    "test_dataset = torchvision.datasets.FashionMNIST(root='fashion_mnist', download=True, train=False, transform=ToTensor())"
   ]
  },
  {
   "cell_type": "code",
   "execution_count": 4,
   "id": "b75773e7-5082-439a-8c7f-4cd857e8aae9",
   "metadata": {},
   "outputs": [
    {
     "data": {
      "image/png": "[encoded data removed]",
      "text/plain": [
       "<Figure size 500x500 with 9 Axes>"
      ]
     },
     "metadata": {},
     "output_type": "display_data"
    }
   ],
   "source": [
    "labels = [\n",
    "    'T-shirt/top',\n",
    "    'Trouser',\n",
    "    'Pullover',\n",
    "    'Dress',\n",
    "    'Coat',\n",
    "    'Sandal',\n",
    "    'Shirt',\n",
    "    'Sneaker',\n",
    "    'Bag',\n",
    "    'Ankle Boot'\n",
    "]\n",
    "figure = plt.figure(figsize=(5, 5))\n",
    "rows, cols = 3, 3\n",
    "for i in range(1, cols * rows + 1):\n",
    "    sample_idx = torch.randint(len(train_dataset), size=(1,)).item()\n",
    "    img, label = train_dataset[sample_idx]\n",
    "    figure.add_subplot(rows, cols, i)\n",
    "    plt.title(labels[label])\n",
    "    plt.axis(\"off\")\n",
    "    plt.imshow(img.squeeze(), cmap=\"gray\")\n",
    "plt.show()"
   ]
  },
  {
   "cell_type": "markdown",
   "id": "029ac342",
   "metadata": {},
   "source": [
    "The FashionMNIST dataset has 9 classes (indicated in the `labels` array above) and they each consist of $28 \\times 28$ grayscale images. Unlike RGB, this means that each pixel has only one value. We can verify this by looking at an example from the dataset:"
   ]
  },
  {
   "cell_type": "code",
   "execution_count": null,
   "id": "3e110066-4ad5-433e-9ce0-2cccdcaeaa34",
   "metadata": {},
   "outputs": [],
   "source": [
    "sample_idx = torch.randint(len(train_dataset), size=(1,)).item()\n",
    "img, _ = train_dataset[sample_idx]\n",
    "print(f'Image shape: {img.shape}')\n",
    "max_pixel_val = torch.max(img)\n",
    "min_pixel_val = torch.min(img)\n",
    "print(f'Range of image pixels: {min_pixel_val} to {max_pixel_val}')"
   ]
  },
  {
   "cell_type": "markdown",
   "id": "fb49e455-13ee-4ce6-910e-e6946932467b",
   "metadata": {},
   "source": [
    "### What are convolutions?"
   ]
  },
  {
   "cell_type": "markdown",
   "id": "3550b30b",
   "metadata": {},
   "source": [
    "The convolution operation is defined as below:\n",
    "\n",
    "$$C(j, k) = \\sum_{l} \\sum_{m} I(j + l, k + m) K(l, m)$$\n",
    "\n",
    "where $I$ is an image and $K$ is called the *kernel*. The above equation gives the computation for the $j, k$ entry of $C$. In this case, $K$ is a learnable parameter. The resulting $C$ is called a feature map. Though the above is called a convolution in machine learning literature, it is actually called the \"[cross correlation](https://en.wikipedia.org/wiki/Cross-correlation)\" operation, which comes from signal processing and statistics. The main reason we use convolutional layers is because they retain \"inductive bias\", i.e, they are able to exploit the properties of images better than a typical multilayer-perception network. In particular, convolutions maintain *equivariance*, which essentially means that if an input image is transformed and passed through a convolutional layer, the feature map will be transformed in a consistent manner. In our image classification example, we seek a special case of equivariance, namely, *invariance*, whereby a translation, rotation, or scaling of the input image will not affect its classification. We will implement the convolution operation as well as some additional features to demonstrate how it works."
   ]
  },
  {
   "cell_type": "markdown",
   "id": "daf0680a-842f-4d37-98ed-2d9da82c32a4",
   "metadata": {},
   "source": [
    "### Creating a convolutional neural network"
   ]
  },
  {
   "cell_type": "markdown",
   "id": "e747ba7c-70db-452c-88d5-cc21613ec48e",
   "metadata": {},
   "source": [
    "#### Basic implementation"
   ]
  },
  {
   "cell_type": "markdown",
   "id": "186948c4",
   "metadata": {},
   "source": [
    "We implement a custom convolution layer. Note that the layer we are creating is not trainable (which I've done to make the implementation of convolution a bit easier to understand), but it doesn't take too much effort to make the `DIYConv2D` layer usable. \n",
    "In addition to the this convolution layer, I've also created a `test_conv_impl` to compare our convolutional layer with the one created by Pytorch. The code below implements the convolution (cross-correlation) operation that we discussed above:"
   ]
  },
  {
   "cell_type": "code",
   "execution_count": null,
   "id": "d49cf931-90e6-4a87-b288-cebef618f356",
   "metadata": {},
   "outputs": [],
   "source": [
    "class DIYConv2D(nn.Module):\n",
    "    def __init__(self, in_channels, out_channels, kernel_size, padding='valid', stride=1):\n",
    "        # TODO: implement padding and stride\n",
    "        super().__init__()\n",
    "        self.out_channels = out_channels\n",
    "        self.in_channels = in_channels\n",
    "        self.kernel_size = kernel_size\n",
    "        self.kernel = torch.rand(out_channels, in_channels, kernel_size, kernel_size)\n",
    "        self.bias = torch.rand(out_channels,)\n",
    "\n",
    "    # For testing\n",
    "    def _set_parameters(self, kernel, bias):\n",
    "        self.kernel = kernel\n",
    "        self.bias = bias\n",
    "        assert self.kernel.shape == (self.out_channels, self.in_channels, self.kernel_size, self.kernel_size)\n",
    "        assert self.bias.shape == (self.out_channels,)\n",
    "    \n",
    "    def forward(self, x):\n",
    "        height = x.shape[1] - self.kernel_size + 1\n",
    "        width = x.shape[2] - self.kernel_size + 1\n",
    "        conv = torch.zeros((self.out_channels, height, width))\n",
    "        for i in range(self.out_channels):\n",
    "            for j in range(height):\n",
    "                for k in range(width):\n",
    "                    conv[i][j][k] = torch.sum(self.kernel[i, ...] * x[..., j:j+self.kernel_size, k:k+self.kernel_size])\n",
    "        return conv + self.bias.reshape(self.out_channels, 1, 1)\n",
    "\n",
    "def test_conv_impl(img_width, img_height, kernel_size, padding=0, stride=1):\n",
    "    img = torch.rand(1, img_width, img_height)\n",
    "    conv_layer = nn.Conv2d(kernel_size=kernel_size, in_channels=1, out_channels=3, stride=stride, padding=padding, dilation=1, bias=True)\n",
    "    diy_conv_layer = DIYConv2D(1, 3, kernel_size=kernel_size, padding=padding, stride=stride)\n",
    "    diy_conv_layer._set_parameters(conv_layer.weight, conv_layer.bias)\n",
    "    conv_layer_output = conv_layer(img)\n",
    "    diy_conv_layer_output = diy_conv_layer(img)\n",
    "    print(conv_layer_output)\n",
    "    print(diy_conv_layer_output)\n",
    "    assert torch.allclose(conv_layer_output, diy_conv_layer_output, atol=1e-5, rtol=1e-5)\n",
    "\n",
    "test_conv_impl(3, 3, 2)\n",
    "test_conv_impl(28, 28, 3)\n",
    "test_conv_impl(32, 64, 8)"
   ]
  },
  {
   "cell_type": "markdown",
   "id": "f56f8ec8-1508-40f9-a227-884affebb227",
   "metadata": {},
   "source": [
    "#### Padding"
   ]
  },
  {
   "cell_type": "markdown",
   "id": "de6b53c9",
   "metadata": {},
   "source": [
    "One problem with the convolution operation is that pixels near the edge of the image are not convolved. We can solve this problem by adding *padding* to the image. Another reason to use padding is to ensure that the dimensions of the feature map match the dimensions of the input. Consider the following $3 \\times 3$ image:\n",
    "\n",
    "$\\begin{bmatrix} 1 & 2 & 3 \\\\ 4 & 5 & 6 \\\\ 7 & 8 & 9 \\end{bmatrix}$\n",
    "\n",
    "And say we apply one layer of padding. Then, the image becomes: \n",
    "\n",
    "$\\begin{bmatrix} 0 & 0 & 0 & 0 & 0 \\\\ 0 & 1 & 2 & 3 & 0 \\\\ 0 & 4 & 5 & 6 & 0 \\\\ 0 & 7 & 8 & 9 & 0 \\\\  0 & 0 & 0 & 0 & 0 \\end{bmatrix}$\n",
    "\n",
    "If we were to now apply a $2 \\times 2$ kernel, we would be able to convolve the corners and edges of the image. In general, if we add $P$ pixels on each side of a $J \\times K$ image and convolve it with a $M \\times M$ kernel, then the dimension of the feature map is $(J + 2P - M + 1) \\times (K + 2P - M + 1)$. When $P = 0$, we say the feature map has \"valid\" padding and when $P$ is selected to make the feature map have the same dimensions as the input, we say it has \"same\" padding. For odd $M$, we can select $P = \\frac{M-1}{2}$. Then, the $(J + 2P - M + 1) \\times (K + 2P - M + 1)$ image will be $J \\times K$ in size, the same as the original image.\n",
    "\n",
    "> Note: Adding padding to images for even-sized kernels is not necessarily well-defined. It seems that Pytorch will do this by adding padding to the right and bottom of the matrix as described [here](https://github.com/pytorch/pytorch/issues/3867). Generally for computer vision tasks, we use odd-sized kernels so that the padding is symmetric on all sides and there is a well-defined central pixel (see the textbook by Bishop in the References below for more details)."
   ]
  },
  {
   "cell_type": "code",
   "execution_count": null,
   "id": "b4957416-bb1c-46fd-9f7f-0f9fa7a2e8fc",
   "metadata": {},
   "outputs": [],
   "source": [
    "class DIYConv2D(nn.Module):\n",
    "    def __init__(self, in_channels, out_channels, kernel_size, padding='valid', stride=1):\n",
    "        super().__init__()\n",
    "        self.out_channels = out_channels\n",
    "        self.in_channels = in_channels\n",
    "        self.kernel_size = kernel_size\n",
    "        self.kernel = torch.rand(out_channels, in_channels, kernel_size, kernel_size)\n",
    "        self.bias = torch.rand(out_channels,)\n",
    "        self.padding = padding\n",
    "\n",
    "    # For testing\n",
    "    def _set_parameters(self, kernel, bias):\n",
    "        self.kernel = kernel\n",
    "        self.bias = bias\n",
    "        assert self.kernel.shape == (self.out_channels, self.in_channels, self.kernel_size, self.kernel_size)\n",
    "        assert self.bias.shape == (self.out_channels,)\n",
    "\n",
    "    def _add_padding(self, x):\n",
    "        padding = None\n",
    "        if self.padding == 'valid':\n",
    "            padding = 0\n",
    "        elif self.padding == 'same':\n",
    "            padding = (self.kernel_size - 1) // 2\n",
    "        elif isinstance(self.padding, int):\n",
    "            padding = self.padding\n",
    "        else:\n",
    "            raise Exception(f'Undefined padding mode \\\"{self.padding}\\\"')\n",
    "        padded_x = x\n",
    "        for _ in range(padding):\n",
    "            padding_vertical = torch.zeros((padded_x.shape[0], padded_x.shape[1] + 2, 1))\n",
    "            padding_horizontal = torch.zeros((padded_x.shape[0], 1, padded_x.shape[2]))\n",
    "            padded_x = torch.cat((padding_horizontal, padded_x, padding_horizontal), dim=1)\n",
    "            padded_x = torch.cat((padding_vertical, padded_x, padding_vertical), dim=2)\n",
    "        return padded_x\n",
    "    \n",
    "    def forward(self, x):\n",
    "        x = self._add_padding(x)\n",
    "        height = x.shape[1] - self.kernel_size + 1\n",
    "        width = x.shape[2] - self.kernel_size + 1\n",
    "        conv = torch.zeros((self.out_channels, height, width))\n",
    "        for i in range(self.out_channels):\n",
    "            for j in range(height):\n",
    "                for k in range(width):\n",
    "                    conv[i][j][k] = torch.sum(self.kernel[i, ...] * x[..., j:j+self.kernel_size, k:k+self.kernel_size])\n",
    "        return conv + self.bias.reshape(self.out_channels, 1, 1)\n",
    "\n",
    "test_conv_impl(3, 3, 3, padding='valid')\n",
    "test_conv_impl(3, 3, 3, padding='same')\n",
    "test_conv_impl(3, 3, 1, padding=2)\n",
    "test_conv_impl(28, 28, 5, padding='valid')\n",
    "test_conv_impl(28, 28, 5, padding='same')\n",
    "test_conv_impl(28, 28, 5, padding=2)\n",
    "test_conv_impl(32, 64, 7, padding='valid')\n",
    "test_conv_impl(32, 64, 7, padding='same')\n",
    "test_conv_impl(32, 64, 7, padding=10)"
   ]
  },
  {
   "cell_type": "markdown",
   "id": "b13b316b-5b24-4839-89ae-a05eab9568f3",
   "metadata": {},
   "source": [
    "#### Stride"
   ]
  },
  {
   "cell_type": "markdown",
   "id": "3c6a9b78",
   "metadata": {},
   "source": [
    "Sometimes, instead of padding, we wish to make the feature map smaller than the input rather than keep it of a similar size. We can do this by using a different *stride* when applying the kernel. Essentially, instead of moving the sliding window over by $1$ each time, we skip $S$ pixels. The resulting feature map has the size $(\\lfloor \\frac{J + 2P - M}{S} + 1 \\rfloor) \\times (\\lfloor \\frac{K + 2P - M}{S} + 1 \\rfloor)$. The code below is not too different from the above; we just skip $S$ pixels in the loop."
   ]
  },
  {
   "cell_type": "code",
   "execution_count": null,
   "id": "52e9d224-8138-41ec-97ed-081ab415a39a",
   "metadata": {},
   "outputs": [],
   "source": [
    "class DIYConv2D(nn.Module):\n",
    "    def __init__(self, in_channels, out_channels, kernel_size, padding='valid', stride=1):\n",
    "        super().__init__()\n",
    "        self.out_channels = out_channels\n",
    "        self.in_channels = in_channels\n",
    "        self.kernel_size = kernel_size\n",
    "        self.kernel = torch.rand(out_channels, in_channels, kernel_size, kernel_size)\n",
    "        self.bias = torch.rand(out_channels)\n",
    "        self.padding = padding\n",
    "        self.stride = stride\n",
    "\n",
    "    # For testing\n",
    "    def _set_parameters(self, kernel, bias):\n",
    "        self.kernel = kernel\n",
    "        self.bias = bias\n",
    "        assert self.kernel.shape == (self.out_channels, self.in_channels, self.kernel_size, self.kernel_size)\n",
    "        assert self.bias.shape == (self.out_channels,)\n",
    "\n",
    "    def _add_padding(self, x):\n",
    "        padding = None\n",
    "        if self.padding == 'valid':\n",
    "            padding = 0\n",
    "        elif self.padding == 'same':\n",
    "            padding = (self.kernel_size - 1) // 2\n",
    "        elif isinstance(self.padding, int):\n",
    "            padding = self.padding\n",
    "        else:\n",
    "            raise Exception(f'Undefined padding mode \\\"{self.padding}\\\"')\n",
    "        padded_x = x\n",
    "        for _ in range(padding):\n",
    "            padding_vertical = torch.zeros((padded_x.shape[0], padded_x.shape[1] + 2, 1))\n",
    "            padding_horizontal = torch.zeros((padded_x.shape[0], 1, padded_x.shape[2]))\n",
    "            padded_x = torch.cat((padding_horizontal, padded_x, padding_horizontal), dim=1)\n",
    "            padded_x = torch.cat((padding_vertical, padded_x, padding_vertical), dim=2)\n",
    "        return padded_x\n",
    "    \n",
    "    def forward(self, x):\n",
    "        x = self._add_padding(x)\n",
    "        height = int(np.floor(1 + (x.shape[1] - self.kernel_size) / self.stride))\n",
    "        width = int(np.floor(1 + (x.shape[2] - self.kernel_size) / self.stride))\n",
    "        conv = torch.zeros((self.out_channels, height, width))\n",
    "        jc, kc = 0, 0\n",
    "        for i in range(self.out_channels):\n",
    "            jc = 0\n",
    "            for j in range(0, x.shape[1] - self.kernel_size + 1, self.stride):\n",
    "                kc = 0\n",
    "                for k in range(0, x.shape[2] - self.kernel_size + 1, self.stride):\n",
    "                    conv[i][jc][kc] = torch.sum(self.kernel[i, ...] * x[..., j:j+self.kernel_size, k:k+self.kernel_size])\n",
    "                    kc += 1\n",
    "                jc += 1\n",
    "        return conv + self.bias.reshape(self.out_channels, 1, 1)\n",
    "\n",
    "test_conv_impl(3, 3, 3, padding='valid')\n",
    "test_conv_impl(3, 3, 3, padding='same')\n",
    "test_conv_impl(3, 3, 1, padding=2)\n",
    "test_conv_impl(28, 28, 5, padding='valid', stride=2)\n",
    "test_conv_impl(28, 28, 5, padding='same')\n",
    "test_conv_impl(28, 28, 5, padding=2, stride=3)\n",
    "test_conv_impl(32, 64, 7, padding='valid', stride=2)\n",
    "test_conv_impl(32, 64, 7, padding='same')\n",
    "test_conv_impl(32, 64, 7, padding=10, stride=4)"
   ]
  },
  {
   "cell_type": "markdown",
   "id": "9aaab094-8153-4b92-984c-467b63945e82",
   "metadata": {},
   "source": [
    "#### Pooling"
   ]
  },
  {
   "cell_type": "markdown",
   "id": "5c618979-cb1f-4927-87ed-284edea3afee",
   "metadata": {},
   "source": [
    "This next aspect is separate from the convolution operation we have been writing. *Pooling* is essentially the convolution operation except instead of multiplying and summing with a kernel, we apply some other function. The two most common types of pooling are average pooling and max pooling. To illustrate what pooling is, we perform a $2 \\times 2$ max pool operation on the following $3 \\times 3$ matrix:\n",
    "\n",
    "$\\begin{bmatrix} 1 & 2 & 3 \\\\ 4 & 5 & 6 \\\\ 7 & 8 & 9 \\end{bmatrix}$\n",
    "\n",
    "The pooling operation is still like a sliding window, so we look at the first $2 \\times 2$ submatrix:\n",
    "\n",
    "$\\begin{bmatrix} 1 & 2 \\\\ 4 & 5 \\end{bmatrix}$\n",
    "\n",
    "and we take the maximum of all these elements, which is $5$. We then slide the window over and take the maximum of the next $2 \\times 2$ submatrix:\n",
    "\n",
    "$\\begin{bmatrix} 2 & 3 \\\\ 5 & 6 \\end{bmatrix}$\n",
    "\n",
    "which is $6$. Continuing this way, we arrive at the following max-pooled matrix:\n",
    "\n",
    "\\begin{bmatrix} 5 & 6 \\\\ 8 & 9 \\end{bmatrix}\n",
    "\n",
    "If we were to use average pooling, we would take the average of each window and use that as the entries to get the following matrix:\n",
    "\n",
    "\\begin{bmatrix} 3 & 4 \\\\ 6 & 7 \\end{bmatrix}\n",
    "\n",
    "The primary use of the pooling operation is to allow for *invariance*. For example, in the case of the FashionMNIST dataset, we would like our neural network to be invariant to translations and rotations of the images, i.e, it should be able to tell that a T-shirt is a T-shirt regardless of whether the image is upside-down or rightside-up. "
   ]
  },
  {
   "cell_type": "markdown",
   "id": "8a9a97e5-57ae-4108-85a5-8ae55847130b",
   "metadata": {},
   "source": [
    "#### Training and Evaluation"
   ]
  },
  {
   "cell_type": "markdown",
   "id": "c95187ee",
   "metadata": {},
   "source": [
    "Now all that's left to do is train the network. The network below is a modified version of the LeNet5 network implemented in this Pytorch tutorial. It embodies many of the principles that we discussed above for a convolutional network. It uses max-pooling to be invariant to transformations and increases the number of filters to magnify the receptive field of earlier layers. \n",
    "The convolution-ReLU-maxpool trend is typical for most convolutional neural networks."
   ]
  },
  {
   "cell_type": "code",
   "execution_count": null,
   "id": "13beb66f-6aa9-4d86-a311-9a6006f2d85d",
   "metadata": {},
   "outputs": [],
   "source": [
    "class FashionClassifier(nn.Module):\n",
    "    def __init__(self):\n",
    "        super().__init__()\n",
    "        self.conv1 = nn.Conv2d(1, 6, 5)\n",
    "        self.pool = nn.MaxPool2d(2, 2)\n",
    "        self.conv2 = nn.Conv2d(6, 16, 5)\n",
    "        self.fc1 = nn.Linear(16 * 4 * 4, 120)\n",
    "        self.fc2 = nn.Linear(120, 84)\n",
    "        self.fc3 = nn.Linear(84, 10)\n",
    "\n",
    "    def forward(self, x):\n",
    "        x = self.pool(F.relu(self.conv1(x)))\n",
    "        x = self.pool(F.relu(self.conv2(x)))\n",
    "        x = x.view(-1, 16 * 4 * 4)\n",
    "        x = F.relu(self.fc1(x))\n",
    "        x = F.relu(self.fc2(x))\n",
    "        x = self.fc3(x)\n",
    "        return x\n",
    "        "
   ]
  },
  {
   "cell_type": "code",
   "execution_count": null,
   "id": "716e2e36-01da-4ca4-893a-a6cd76e29cab",
   "metadata": {},
   "outputs": [],
   "source": [
    "batch_size = 32\n",
    "classifier = FashionClassifier()\n",
    "classifier.train(True)\n",
    "summary(classifier, input_size=(batch_size, 1, 28, 28))"
   ]
  },
  {
   "cell_type": "markdown",
   "id": "a068ee7b",
   "metadata": {},
   "source": [
    "Since this is an image classification task, we use cross-entropy loss:"
   ]
  },
  {
   "cell_type": "code",
   "execution_count": null,
   "id": "f6618f7c-ffda-4e91-b067-d743dcf00a2d",
   "metadata": {},
   "outputs": [],
   "source": [
    "loss_fn = nn.CrossEntropyLoss()\n",
    "optimizer = torch.optim.SGD(classifier.parameters(), lr=0.001, momentum=0.9)"
   ]
  },
  {
   "cell_type": "code",
   "execution_count": null,
   "id": "607bd70b-a13e-4cdf-ad37-0b8de0534a42",
   "metadata": {},
   "outputs": [],
   "source": [
    "epochs = 10\n",
    "for epoch in range(epochs):\n",
    "    print(f'Epoch {epoch+1}:')\n",
    "    total_epoch_loss = 0\n",
    "    i = 0\n",
    "    for input, target in DataLoader(train_dataset, batch_size=batch_size, shuffle=True):\n",
    "        x = input.cuda()\n",
    "        y = target.cuda()\n",
    "        optimizer.zero_grad()\n",
    "        yhat = classifier(x)\n",
    "        loss = loss_fn(yhat, y)\n",
    "        loss.backward()\n",
    "        optimizer.step()\n",
    "        total_epoch_loss += loss.item()\n",
    "        # 1875 / 375 = 5, so 5 reports per epoch\n",
    "        if i % 375 == 374:\n",
    "            print(f' batch {i+1} loss: {total_epoch_loss / 1000}')\n",
    "            total_epoch_loss = 0\n",
    "        i += 1"
   ]
  },
  {
   "cell_type": "code",
   "execution_count": null,
   "id": "53c8e821-6e73-43c4-8ae2-0323c64a4832",
   "metadata": {},
   "outputs": [],
   "source": [
    "accuracy = 0.\n",
    "with torch.no_grad():\n",
    "    for i, data in enumerate(test_dataset):\n",
    "        x, y = data\n",
    "        yhat = classifier(x.cuda())\n",
    "        accuracy += torch.argmax(yhat) == y\n",
    "accuracy / len(test_dataset)"
   ]
  },
  {
   "cell_type": "markdown",
   "id": "2a006d1b",
   "metadata": {},
   "source": [
    "If you run this in the notebook, then you should get roughly 85% accuracy on the dataset, which is not bad for a small network. Though this article explored convolutions for a simple image classification task, the convolution operation can be used for object detection, face recognition, and non-computer-vision tasks, such as audio/speech processing (in this case, the convolution would be one dimensional). Either way, the main reason to use convolutions in a network boils down to 1) parameter sharing, 2) sparse connections, and 3) for inference on images of different sizes without retraining."
   ]
  },
  {
   "cell_type": "markdown",
   "id": "072f76a0-c967-449e-b97f-4cb71e38bc6e",
   "metadata": {},
   "source": [
    "### References"
   ]
  },
  {
   "cell_type": "markdown",
   "id": "9ebb2a25-0f0d-449d-b2c3-d95a4b1e2eae",
   "metadata": {},
   "source": [
    "* Modified LeNet5 network: https://pytorch.org/tutorials/beginner/introyt/trainingyt.html\n",
    "* Pytorch tutorial for basic neural network training: https://pytorch.org/tutorials/beginner/basics/data_tutorial.html\n",
    "* FashionMNIST dataset: https://github.com/zalandoresearch/fashion-mnist\n",
    "* Issue discussing padding for even-sized kernels: https://github.com/pytorch/pytorch/issues/3867\n",
    "* Deep Learning: Foundations and Concepts: https://www.bishopbook.com/\n",
    "* Cross Correlation operation: https://en.wikipedia.org/wiki/Cross-correlation"
   ]
  }
 ],
 "metadata": {
  "kernelspec": {
   "display_name": "dlt",
   "language": "python",
   "name": "dlt"
  },
  "language_info": {
   "codemirror_mode": {
    "name": "ipython",
    "version": 3
   },
   "file_extension": ".py",
   "mimetype": "text/x-python",
   "name": "python",
   "nbconvert_exporter": "python",
   "pygments_lexer": "ipython3",
   "version": "3.9.18"
  }
 },
 "nbformat": 4,
 "nbformat_minor": 5
}
